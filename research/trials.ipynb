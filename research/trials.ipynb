{
 "cells": [
  {
   "cell_type": "code",
   "execution_count": 1,
   "metadata": {},
   "outputs": [],
   "source": [
    "import gdown"
   ]
  },
  {
   "cell_type": "code",
   "execution_count": 3,
   "metadata": {},
   "outputs": [],
   "source": [
    "url = 'https://drive.google.com/file/d/17WQH_BUmcyGhPpSqj_YrM5FT7cuTbbfS/view?usp=drive_link'"
   ]
  },
  {
   "cell_type": "code",
   "execution_count": 5,
   "metadata": {},
   "outputs": [
    {
     "data": {
      "text/plain": [
       "'17WQH_BUmcyGhPpSqj_YrM5FT7cuTbbfS'"
      ]
     },
     "execution_count": 5,
     "metadata": {},
     "output_type": "execute_result"
    }
   ],
   "source": [
    "file_id = url.split('/')[-2]\n",
    "file_id"
   ]
  },
  {
   "cell_type": "code",
   "execution_count": 6,
   "metadata": {},
   "outputs": [
    {
     "name": "stderr",
     "output_type": "stream",
     "text": [
      "Downloading...\n",
      "From (original): https://drive.google.com/uc?/export=download&id=17WQH_BUmcyGhPpSqj_YrM5FT7cuTbbfS\n",
      "From (redirected): https://drive.google.com/uc?/export=download&id=17WQH_BUmcyGhPpSqj_YrM5FT7cuTbbfS&confirm=t&uuid=066c737c-43fd-47a9-a1f0-0e384e4fcf14\n",
      "To: d:\\End-to-End_ML_Projects\\Deep Learning\\Kidney-Disease-Classification-MLFLOW\\research\\end-to-end-kidney-tumor.zip\n",
      "100%|██████████| 64.6M/64.6M [10:02<00:00, 107kB/s] \n"
     ]
    },
    {
     "data": {
      "text/plain": [
       "'end-to-end-kidney-tumor.zip'"
      ]
     },
     "execution_count": 6,
     "metadata": {},
     "output_type": "execute_result"
    }
   ],
   "source": [
    "prefix = 'https://drive.google.com/uc?/export=download&id='\n",
    "gdown.download(prefix+file_id, 'end-to-end-kidney-tumor.zip')"
   ]
  },
  {
   "cell_type": "code",
   "execution_count": null,
   "metadata": {},
   "outputs": [],
   "source": []
  }
 ],
 "metadata": {
  "kernelspec": {
   "display_name": "Python 3",
   "language": "python",
   "name": "python3"
  },
  "language_info": {
   "codemirror_mode": {
    "name": "ipython",
    "version": 3
   },
   "file_extension": ".py",
   "mimetype": "text/x-python",
   "name": "python",
   "nbconvert_exporter": "python",
   "pygments_lexer": "ipython3",
   "version": "3.8.18"
  }
 },
 "nbformat": 4,
 "nbformat_minor": 2
}
